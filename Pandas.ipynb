{
 "cells": [
  {
   "cell_type": "markdown",
   "id": "99a01634-2d01-41c6-9fb0-547145e3aa29",
   "metadata": {},
   "source": [
    "# **Pandas**"
   ]
  },
  {
   "cell_type": "markdown",
   "id": "1bf4d187-5575-40fe-8123-9f5f9fddbf39",
   "metadata": {},
   "source": [
    "**What is Pandas**"
   ]
  },
  {
   "cell_type": "markdown",
   "id": "4eadbcc6-c355-472b-a399-001c9c1237f4",
   "metadata": {},
   "source": [
    "Pandas (short for Panel Data) is a Python library for data analysis, data manipulation, and data cleaning.<br>\n",
    "It is built on top of NumPy, and it helps you handle structured data easily — just like you would in Excel or SQL."
   ]
  },
  {
   "cell_type": "code",
   "execution_count": 1,
   "id": "b258aff5-9aeb-4116-bd85-5f5603e8e6a8",
   "metadata": {},
   "outputs": [],
   "source": [
    "import pandas as pd"
   ]
  },
  {
   "cell_type": "markdown",
   "id": "4b96b3c7-56f6-48ed-8418-ccd9a00946e4",
   "metadata": {},
   "source": [
    "**Pandas Data Structures**"
   ]
  },
  {
   "cell_type": "markdown",
   "id": "c45b827e-57b4-48ff-bc03-6b8198ebd58f",
   "metadata": {},
   "source": [
    "> **1. Series (1D)**"
   ]
  },
  {
   "cell_type": "markdown",
   "id": "614b4b0d-dae1-42e4-a0de-acfb10d64809",
   "metadata": {},
   "source": [
    "A 1D labeled array (like a column in Excel).<br>\n",
    "Can hold data of any type (int, float, string, etc.)."
   ]
  },
  {
   "cell_type": "code",
   "execution_count": 2,
   "id": "68d93aa1-c6b7-43ef-be2f-0bc44bb9671f",
   "metadata": {},
   "outputs": [
    {
     "name": "stdout",
     "output_type": "stream",
     "text": [
      "0    10\n",
      "1    20\n",
      "2    30\n",
      "3    40\n",
      "4    50\n",
      "dtype: int64\n"
     ]
    }
   ],
   "source": [
    "data=[10,20,30,40,50]\n",
    "series=pd.Series(data)\n",
    "print(series)"
   ]
  },
  {
   "cell_type": "markdown",
   "id": "d7af64b5-f818-47f5-b247-d4a7f4a07cdf",
   "metadata": {},
   "source": [
    "> Custom indexing"
   ]
  },
  {
   "cell_type": "code",
   "execution_count": 3,
   "id": "fff0640a-13a2-47c8-8bf0-5cfdc3f5d2ba",
   "metadata": {},
   "outputs": [
    {
     "name": "stdout",
     "output_type": "stream",
     "text": [
      "1    10\n",
      "2    20\n",
      "3    30\n",
      "4    40\n",
      "5    50\n",
      "dtype: int64\n",
      "a    10\n",
      "b    20\n",
      "c    30\n",
      "d    40\n",
      "e    50\n",
      "dtype: int64\n",
      "Number 1    10\n",
      "Number 2    20\n",
      "Number 3    30\n",
      "Number 4    40\n",
      "Number 5    50\n",
      "dtype: int64\n"
     ]
    }
   ],
   "source": [
    "# you can also give custom index :\n",
    "data=[10,20,30,40,50]\n",
    "series=pd.Series(data, index=[1,2,3,4,5])\n",
    "print(series)\n",
    "\n",
    "series=pd.Series(data, index=[\"a\",\"b\",\"c\",\"d\",\"e\"])\n",
    "print(series)\n",
    "\n",
    "series=pd.Series(data, index=[\"Number 1\",\"Number 2\",\"Number 3\",\"Number 4\",\"Number 5\"])\n",
    "print(series)\n",
    "\n"
   ]
  },
  {
   "cell_type": "markdown",
   "id": "cea39608-232e-41d6-ad54-89325fbbe880",
   "metadata": {},
   "source": [
    "> Dictionary->Series"
   ]
  },
  {
   "cell_type": "code",
   "execution_count": 4,
   "id": "2d014942-a3b6-40d1-af6f-efd9e4465546",
   "metadata": {},
   "outputs": [
    {
     "name": "stdout",
     "output_type": "stream",
     "text": [
      "1    10\n",
      "2    20\n",
      "3    30\n",
      "4    40\n",
      "5    50\n",
      "dtype: int64\n",
      "Math       90\n",
      "English    80\n",
      "Science    85\n",
      "dtype: int64\n"
     ]
    }
   ],
   "source": [
    "# Create from dictionary:\n",
    "data={1:10,2:20,3:30,4:40,5:50}\n",
    "series=pd.Series(data)\n",
    "print(series)\n",
    "\n",
    "data = {'Math': 90, 'English': 80, 'Science': 85}\n",
    "marks = pd.Series(data)\n",
    "print(marks)\n"
   ]
  },
  {
   "cell_type": "markdown",
   "id": "6d015910-ccff-4342-872b-9fe90691b866",
   "metadata": {},
   "source": [
    "> Accesing elements"
   ]
  },
  {
   "cell_type": "code",
   "execution_count": 5,
   "id": "3e5f818d-c7de-4868-b3fd-819d827c084c",
   "metadata": {},
   "outputs": [
    {
     "name": "stdout",
     "output_type": "stream",
     "text": [
      "20\n",
      "30\n"
     ]
    }
   ],
   "source": [
    "# using label based index->loc\n",
    "data=[10,20,30,40,50]\n",
    "series=pd.Series(data, index=[\"a\",\"b\",\"c\",\"d\",\"e\"])\n",
    "print(series.loc[\"b\"])   #20\n",
    "\n",
    "# using positoon based integer index-> iloc\n",
    "print(series.iloc[2])  #c-> 30"
   ]
  },
  {
   "cell_type": "markdown",
   "id": "45526bd2-78fd-4f97-97f5-46bdbff6809e",
   "metadata": {},
   "source": [
    "> **2. DataFrame (2D)**"
   ]
  },
  {
   "cell_type": "markdown",
   "id": "5d00bd61-1349-4e1e-930c-2fe1e7b4ae37",
   "metadata": {},
   "source": [
    "A 2D labeled data structure (like an Excel sheet or SQL table).<br>\n",
    "Each column is a Series."
   ]
  },
  {
   "cell_type": "code",
   "execution_count": 6,
   "id": "f1f05a3b-6db3-42c1-ae7c-c3f41d3d2928",
   "metadata": {},
   "outputs": [
    {
     "name": "stdout",
     "output_type": "stream",
     "text": [
      "       Name  Age    City\n",
      "0  Himanshu   20  Nagpur\n",
      "1      Riya   19   Delhi\n",
      "2      Aman   21    Pune\n"
     ]
    }
   ],
   "source": [
    "data={\n",
    "    \"Name\":[\"Himanshu\",\"Riya\",\"Aman\"],\n",
    "    \"Age\":[20,19,21],\n",
    "    \"City\":[\"Nagpur\",\"Delhi\",\"Pune\"]\n",
    "}\n",
    "df=pd.DataFrame(data)\n",
    "print(df)\n",
    "    "
   ]
  },
  {
   "cell_type": "markdown",
   "id": "5b5ac6d7-b925-448f-a7ce-5a697763cb8b",
   "metadata": {},
   "source": [
    "> Custom indexing"
   ]
  },
  {
   "cell_type": "code",
   "execution_count": 7,
   "id": "8f34531f-e984-460e-9ced-2b73b7e9416b",
   "metadata": {},
   "outputs": [
    {
     "name": "stdout",
     "output_type": "stream",
     "text": [
      "                Name  Age    City\n",
      "Employee 1  Himanshu   20  Nagpur\n",
      "Employee 2      Riya   19   Delhi\n",
      "Employee 3      Aman   21    Pune\n"
     ]
    }
   ],
   "source": [
    "data={\n",
    "    \"Name\":[\"Himanshu\",\"Riya\",\"Aman\"],\n",
    "    \"Age\":[20,19,21],\n",
    "    \"City\":[\"Nagpur\",\"Delhi\",\"Pune\"]\n",
    "}\n",
    "df=pd.DataFrame(data, index=[\"Employee 1\",\"Employee 2\",\"Employee 3\"])\n",
    "print(df)\n"
   ]
  },
  {
   "cell_type": "markdown",
   "id": "93e80fd3-d1c1-421c-a9ca-d1a3410ddb0e",
   "metadata": {},
   "source": [
    "> Accesing elements"
   ]
  },
  {
   "cell_type": "code",
   "execution_count": 8,
   "id": "86e40f1c-7107-4bac-9239-a8951c22e26c",
   "metadata": {},
   "outputs": [
    {
     "name": "stdout",
     "output_type": "stream",
     "text": [
      "Name    Himanshu\n",
      "Age           20\n",
      "City      Nagpur\n",
      "Name: Employee 1, dtype: object\n"
     ]
    }
   ],
   "source": [
    "print(df.loc[\"Employee 1\"])"
   ]
  },
  {
   "cell_type": "code",
   "execution_count": 9,
   "id": "18e69cf6-b454-4faf-8cef-70f65f3c52c0",
   "metadata": {},
   "outputs": [
    {
     "name": "stdout",
     "output_type": "stream",
     "text": [
      "Name     Riya\n",
      "Age        19\n",
      "City    Delhi\n",
      "Name: Employee 2, dtype: object\n"
     ]
    }
   ],
   "source": [
    "print(df.iloc[1])"
   ]
  },
  {
   "cell_type": "markdown",
   "id": "0eae9f1b-976b-42f4-887f-6ede5b3a5c55",
   "metadata": {},
   "source": [
    "> Adding a new column:"
   ]
  },
  {
   "cell_type": "code",
   "execution_count": 10,
   "id": "c3d72eb5-5ace-4df3-9743-5a40c2af2c1b",
   "metadata": {},
   "outputs": [
    {
     "name": "stdout",
     "output_type": "stream",
     "text": [
      "                Name  Age    City  Salary\n",
      "Employee 1  Himanshu   20  Nagpur  100000\n",
      "Employee 2      Riya   19   Delhi   90000\n",
      "Employee 3      Aman   21    Pune   55000\n"
     ]
    }
   ],
   "source": [
    "df[\"Salary\"]=[100000,90000,55000]\n",
    "print(df)"
   ]
  },
  {
   "cell_type": "markdown",
   "id": "b1a76cc8-ab83-4764-905c-c18efbc3ca42",
   "metadata": {},
   "source": [
    "> Adding a new row:"
   ]
  },
  {
   "cell_type": "code",
   "execution_count": 11,
   "id": "520e6dd5-6ee8-447b-97ad-0ae44f813c46",
   "metadata": {},
   "outputs": [
    {
     "name": "stdout",
     "output_type": "stream",
     "text": [
      "                Name  Age      City  Salary\n",
      "Employee 1  Himanshu   20    Nagpur  100000\n",
      "Employee 2      Riya   19     Delhi   90000\n",
      "Employee 3      Aman   21      Pune   55000\n",
      "Employee 4    Anshul   21  Balaghat       0\n"
     ]
    }
   ],
   "source": [
    "new_row=pd.DataFrame([{\"Name\":\"Anshul\",\"Age\":21,\"City\":\"Balaghat\",\"Salary\":0}],index=[\"Employee 4\"])\n",
    "df=pd.concat([df,new_row])\n",
    "print(df)"
   ]
  },
  {
   "cell_type": "markdown",
   "id": "a3c3c94d-2ffb-451c-97de-64aaacf0d24e",
   "metadata": {},
   "source": [
    "**Reading and writing/ Importing and exporting**"
   ]
  },
  {
   "cell_type": "markdown",
   "id": "3e70438b-1487-4b39-a5d5-730761f94107",
   "metadata": {},
   "source": [
    "Reading:\n",
    "* CSV file: pd.read_csv('file.csv')\n",
    "* Json file: pd.read_json('file.json')\n",
    "* Excel file: pd.read_excel('file.xlsx')\n",
    "* SQL: pd.read_sql(query, connection)\n",
    "\n",
    "Exporting:\n",
    "* CSV file: df.to_csv('file.csv', index=False)\n",
    "* Json file: df.to_json('file.json')\n",
    "* Excel file: df.to_excel('file.xlsx', index=False)\n",
    "* SQL: df.to_sql('table', connection)"
   ]
  },
  {
   "cell_type": "code",
   "execution_count": 12,
   "id": "aa1ff7dd-6066-4ffa-bf9f-f029f3d4a22f",
   "metadata": {},
   "outputs": [
    {
     "name": "stdout",
     "output_type": "stream",
     "text": [
      "      No        Name    Type1   Type2  Height  Weight  Legendary\n",
      "0      1   Bulbasaur    Grass  Poison     0.7     6.9          0\n",
      "1      2     Ivysaur    Grass  Poison     1.0    13.0          0\n",
      "2      3    Venusaur    Grass  Poison     2.0   100.0          0\n",
      "3      4  Charmander     Fire     NaN     0.6     8.5          0\n",
      "4      5  Charmeleon     Fire     NaN     1.1    19.0          0\n",
      "..   ...         ...      ...     ...     ...     ...        ...\n",
      "145  146     Moltres     Fire  Flying     2.0    60.0          1\n",
      "146  147     Dratini   Dragon     NaN     1.8     3.3          0\n",
      "147  148   Dragonair   Dragon     NaN     4.0    16.5          0\n",
      "148  149   Dragonite   Dragon  Flying     2.2   210.0          0\n",
      "149  150      Mewtwo  Psychic     NaN     2.0   122.0          1\n",
      "\n",
      "[150 rows x 7 columns]\n"
     ]
    }
   ],
   "source": [
    "df=pd.read_csv('Pokemon.csv')\n",
    "print(df)"
   ]
  },
  {
   "cell_type": "markdown",
   "id": "0e6b3b2a-ed80-4c8a-aef4-bbdc98b4a142",
   "metadata": {},
   "source": [
    "**Veiwing data**"
   ]
  },
  {
   "cell_type": "code",
   "execution_count": 13,
   "id": "37e7385e-8c85-4f22-8d5f-0a6f1d18316b",
   "metadata": {},
   "outputs": [],
   "source": [
    "# to print whole data-> use df.to_string()\n",
    "# print(df.to_string())"
   ]
  },
  {
   "cell_type": "markdown",
   "id": "dd989257-991c-4042-914f-d0c3f65cf3bc",
   "metadata": {},
   "source": [
    "> .head() ->First 5 rows(default)"
   ]
  },
  {
   "cell_type": "code",
   "execution_count": 14,
   "id": "17fbbf74-18ef-4028-8131-1fc4b6d792ec",
   "metadata": {},
   "outputs": [
    {
     "data": {
      "text/html": [
       "<div>\n",
       "<style scoped>\n",
       "    .dataframe tbody tr th:only-of-type {\n",
       "        vertical-align: middle;\n",
       "    }\n",
       "\n",
       "    .dataframe tbody tr th {\n",
       "        vertical-align: top;\n",
       "    }\n",
       "\n",
       "    .dataframe thead th {\n",
       "        text-align: right;\n",
       "    }\n",
       "</style>\n",
       "<table border=\"1\" class=\"dataframe\">\n",
       "  <thead>\n",
       "    <tr style=\"text-align: right;\">\n",
       "      <th></th>\n",
       "      <th>No</th>\n",
       "      <th>Name</th>\n",
       "      <th>Type1</th>\n",
       "      <th>Type2</th>\n",
       "      <th>Height</th>\n",
       "      <th>Weight</th>\n",
       "      <th>Legendary</th>\n",
       "    </tr>\n",
       "  </thead>\n",
       "  <tbody>\n",
       "    <tr>\n",
       "      <th>0</th>\n",
       "      <td>1</td>\n",
       "      <td>Bulbasaur</td>\n",
       "      <td>Grass</td>\n",
       "      <td>Poison</td>\n",
       "      <td>0.7</td>\n",
       "      <td>6.9</td>\n",
       "      <td>0</td>\n",
       "    </tr>\n",
       "    <tr>\n",
       "      <th>1</th>\n",
       "      <td>2</td>\n",
       "      <td>Ivysaur</td>\n",
       "      <td>Grass</td>\n",
       "      <td>Poison</td>\n",
       "      <td>1.0</td>\n",
       "      <td>13.0</td>\n",
       "      <td>0</td>\n",
       "    </tr>\n",
       "    <tr>\n",
       "      <th>2</th>\n",
       "      <td>3</td>\n",
       "      <td>Venusaur</td>\n",
       "      <td>Grass</td>\n",
       "      <td>Poison</td>\n",
       "      <td>2.0</td>\n",
       "      <td>100.0</td>\n",
       "      <td>0</td>\n",
       "    </tr>\n",
       "    <tr>\n",
       "      <th>3</th>\n",
       "      <td>4</td>\n",
       "      <td>Charmander</td>\n",
       "      <td>Fire</td>\n",
       "      <td>NaN</td>\n",
       "      <td>0.6</td>\n",
       "      <td>8.5</td>\n",
       "      <td>0</td>\n",
       "    </tr>\n",
       "    <tr>\n",
       "      <th>4</th>\n",
       "      <td>5</td>\n",
       "      <td>Charmeleon</td>\n",
       "      <td>Fire</td>\n",
       "      <td>NaN</td>\n",
       "      <td>1.1</td>\n",
       "      <td>19.0</td>\n",
       "      <td>0</td>\n",
       "    </tr>\n",
       "  </tbody>\n",
       "</table>\n",
       "</div>"
      ],
      "text/plain": [
       "   No        Name  Type1   Type2  Height  Weight  Legendary\n",
       "0   1   Bulbasaur  Grass  Poison     0.7     6.9          0\n",
       "1   2     Ivysaur  Grass  Poison     1.0    13.0          0\n",
       "2   3    Venusaur  Grass  Poison     2.0   100.0          0\n",
       "3   4  Charmander   Fire     NaN     0.6     8.5          0\n",
       "4   5  Charmeleon   Fire     NaN     1.1    19.0          0"
      ]
     },
     "execution_count": 14,
     "metadata": {},
     "output_type": "execute_result"
    }
   ],
   "source": [
    "df.head()"
   ]
  },
  {
   "cell_type": "markdown",
   "id": "4786c510-2567-4ad2-b1e0-bdb05074b800",
   "metadata": {},
   "source": [
    "> .tail()-> last 5 rows(default)"
   ]
  },
  {
   "cell_type": "code",
   "execution_count": 15,
   "id": "68dc6899-ed6c-4f14-bb61-cf306833a539",
   "metadata": {},
   "outputs": [
    {
     "data": {
      "text/html": [
       "<div>\n",
       "<style scoped>\n",
       "    .dataframe tbody tr th:only-of-type {\n",
       "        vertical-align: middle;\n",
       "    }\n",
       "\n",
       "    .dataframe tbody tr th {\n",
       "        vertical-align: top;\n",
       "    }\n",
       "\n",
       "    .dataframe thead th {\n",
       "        text-align: right;\n",
       "    }\n",
       "</style>\n",
       "<table border=\"1\" class=\"dataframe\">\n",
       "  <thead>\n",
       "    <tr style=\"text-align: right;\">\n",
       "      <th></th>\n",
       "      <th>No</th>\n",
       "      <th>Name</th>\n",
       "      <th>Type1</th>\n",
       "      <th>Type2</th>\n",
       "      <th>Height</th>\n",
       "      <th>Weight</th>\n",
       "      <th>Legendary</th>\n",
       "    </tr>\n",
       "  </thead>\n",
       "  <tbody>\n",
       "    <tr>\n",
       "      <th>145</th>\n",
       "      <td>146</td>\n",
       "      <td>Moltres</td>\n",
       "      <td>Fire</td>\n",
       "      <td>Flying</td>\n",
       "      <td>2.0</td>\n",
       "      <td>60.0</td>\n",
       "      <td>1</td>\n",
       "    </tr>\n",
       "    <tr>\n",
       "      <th>146</th>\n",
       "      <td>147</td>\n",
       "      <td>Dratini</td>\n",
       "      <td>Dragon</td>\n",
       "      <td>NaN</td>\n",
       "      <td>1.8</td>\n",
       "      <td>3.3</td>\n",
       "      <td>0</td>\n",
       "    </tr>\n",
       "    <tr>\n",
       "      <th>147</th>\n",
       "      <td>148</td>\n",
       "      <td>Dragonair</td>\n",
       "      <td>Dragon</td>\n",
       "      <td>NaN</td>\n",
       "      <td>4.0</td>\n",
       "      <td>16.5</td>\n",
       "      <td>0</td>\n",
       "    </tr>\n",
       "    <tr>\n",
       "      <th>148</th>\n",
       "      <td>149</td>\n",
       "      <td>Dragonite</td>\n",
       "      <td>Dragon</td>\n",
       "      <td>Flying</td>\n",
       "      <td>2.2</td>\n",
       "      <td>210.0</td>\n",
       "      <td>0</td>\n",
       "    </tr>\n",
       "    <tr>\n",
       "      <th>149</th>\n",
       "      <td>150</td>\n",
       "      <td>Mewtwo</td>\n",
       "      <td>Psychic</td>\n",
       "      <td>NaN</td>\n",
       "      <td>2.0</td>\n",
       "      <td>122.0</td>\n",
       "      <td>1</td>\n",
       "    </tr>\n",
       "  </tbody>\n",
       "</table>\n",
       "</div>"
      ],
      "text/plain": [
       "      No       Name    Type1   Type2  Height  Weight  Legendary\n",
       "145  146    Moltres     Fire  Flying     2.0    60.0          1\n",
       "146  147    Dratini   Dragon     NaN     1.8     3.3          0\n",
       "147  148  Dragonair   Dragon     NaN     4.0    16.5          0\n",
       "148  149  Dragonite   Dragon  Flying     2.2   210.0          0\n",
       "149  150     Mewtwo  Psychic     NaN     2.0   122.0          1"
      ]
     },
     "execution_count": 15,
     "metadata": {},
     "output_type": "execute_result"
    }
   ],
   "source": [
    "df.tail()"
   ]
  },
  {
   "cell_type": "markdown",
   "id": "cbafecbe-358d-43a5-911e-003d7099c6d4",
   "metadata": {},
   "source": [
    "> df.shape -> rows and columns"
   ]
  },
  {
   "cell_type": "code",
   "execution_count": 16,
   "id": "20cfd0af-6c3d-459b-8635-10341c8a62e4",
   "metadata": {},
   "outputs": [
    {
     "data": {
      "text/plain": [
       "(150, 7)"
      ]
     },
     "execution_count": 16,
     "metadata": {},
     "output_type": "execute_result"
    }
   ],
   "source": [
    "df.shape"
   ]
  },
  {
   "cell_type": "markdown",
   "id": "9696fac4-1efb-4917-9c59-027c8f5a4e81",
   "metadata": {},
   "source": [
    "> .describe() ->statistics summary"
   ]
  },
  {
   "cell_type": "code",
   "execution_count": 17,
   "id": "d23406a8-63e2-49e5-83c2-d2c7e7ae6ae1",
   "metadata": {},
   "outputs": [
    {
     "data": {
      "text/html": [
       "<div>\n",
       "<style scoped>\n",
       "    .dataframe tbody tr th:only-of-type {\n",
       "        vertical-align: middle;\n",
       "    }\n",
       "\n",
       "    .dataframe tbody tr th {\n",
       "        vertical-align: top;\n",
       "    }\n",
       "\n",
       "    .dataframe thead th {\n",
       "        text-align: right;\n",
       "    }\n",
       "</style>\n",
       "<table border=\"1\" class=\"dataframe\">\n",
       "  <thead>\n",
       "    <tr style=\"text-align: right;\">\n",
       "      <th></th>\n",
       "      <th>No</th>\n",
       "      <th>Height</th>\n",
       "      <th>Weight</th>\n",
       "      <th>Legendary</th>\n",
       "    </tr>\n",
       "  </thead>\n",
       "  <tbody>\n",
       "    <tr>\n",
       "      <th>count</th>\n",
       "      <td>150.000000</td>\n",
       "      <td>150.000000</td>\n",
       "      <td>150.000000</td>\n",
       "      <td>150.000000</td>\n",
       "    </tr>\n",
       "    <tr>\n",
       "      <th>mean</th>\n",
       "      <td>75.500000</td>\n",
       "      <td>1.200000</td>\n",
       "      <td>46.231333</td>\n",
       "      <td>0.026667</td>\n",
       "    </tr>\n",
       "    <tr>\n",
       "      <th>std</th>\n",
       "      <td>43.445368</td>\n",
       "      <td>0.963634</td>\n",
       "      <td>59.547388</td>\n",
       "      <td>0.161647</td>\n",
       "    </tr>\n",
       "    <tr>\n",
       "      <th>min</th>\n",
       "      <td>1.000000</td>\n",
       "      <td>0.200000</td>\n",
       "      <td>0.100000</td>\n",
       "      <td>0.000000</td>\n",
       "    </tr>\n",
       "    <tr>\n",
       "      <th>25%</th>\n",
       "      <td>38.250000</td>\n",
       "      <td>0.700000</td>\n",
       "      <td>9.925000</td>\n",
       "      <td>0.000000</td>\n",
       "    </tr>\n",
       "    <tr>\n",
       "      <th>50%</th>\n",
       "      <td>75.500000</td>\n",
       "      <td>1.000000</td>\n",
       "      <td>30.000000</td>\n",
       "      <td>0.000000</td>\n",
       "    </tr>\n",
       "    <tr>\n",
       "      <th>75%</th>\n",
       "      <td>112.750000</td>\n",
       "      <td>1.500000</td>\n",
       "      <td>56.375000</td>\n",
       "      <td>0.000000</td>\n",
       "    </tr>\n",
       "    <tr>\n",
       "      <th>max</th>\n",
       "      <td>150.000000</td>\n",
       "      <td>8.800000</td>\n",
       "      <td>460.000000</td>\n",
       "      <td>1.000000</td>\n",
       "    </tr>\n",
       "  </tbody>\n",
       "</table>\n",
       "</div>"
      ],
      "text/plain": [
       "               No      Height      Weight   Legendary\n",
       "count  150.000000  150.000000  150.000000  150.000000\n",
       "mean    75.500000    1.200000   46.231333    0.026667\n",
       "std     43.445368    0.963634   59.547388    0.161647\n",
       "min      1.000000    0.200000    0.100000    0.000000\n",
       "25%     38.250000    0.700000    9.925000    0.000000\n",
       "50%     75.500000    1.000000   30.000000    0.000000\n",
       "75%    112.750000    1.500000   56.375000    0.000000\n",
       "max    150.000000    8.800000  460.000000    1.000000"
      ]
     },
     "execution_count": 17,
     "metadata": {},
     "output_type": "execute_result"
    }
   ],
   "source": [
    "df.describe()"
   ]
  },
  {
   "cell_type": "markdown",
   "id": "b32580ff-916f-40dc-aaea-0471fe2771f5",
   "metadata": {},
   "source": [
    "**Selecting Data**"
   ]
  },
  {
   "cell_type": "markdown",
   "id": "ded4875e-fd91-43c4-8318-b234dd168886",
   "metadata": {},
   "source": [
    "> Columns"
   ]
  },
  {
   "cell_type": "code",
   "execution_count": 18,
   "id": "59ac2fc9-39c7-4f03-8b7c-8784b1a60952",
   "metadata": {},
   "outputs": [
    {
     "name": "stdout",
     "output_type": "stream",
     "text": [
      "0       Bulbasaur\n",
      "1         Ivysaur\n",
      "2        Venusaur\n",
      "3      Charmander\n",
      "4      Charmeleon\n",
      "          ...    \n",
      "145       Moltres\n",
      "146       Dratini\n",
      "147     Dragonair\n",
      "148     Dragonite\n",
      "149        Mewtwo\n",
      "Name: Name, Length: 150, dtype: object\n"
     ]
    }
   ],
   "source": [
    "# Single column\n",
    "print(df[\"Name\"])     "
   ]
  },
  {
   "cell_type": "code",
   "execution_count": 19,
   "id": "8a085c7d-7e22-4048-95dc-40e95fb94c6c",
   "metadata": {},
   "outputs": [
    {
     "name": "stdout",
     "output_type": "stream",
     "text": [
      "           Name  Height  Weight\n",
      "0     Bulbasaur     0.7     6.9\n",
      "1       Ivysaur     1.0    13.0\n",
      "2      Venusaur     2.0   100.0\n",
      "3    Charmander     0.6     8.5\n",
      "4    Charmeleon     1.1    19.0\n",
      "..          ...     ...     ...\n",
      "145     Moltres     2.0    60.0\n",
      "146     Dratini     1.8     3.3\n",
      "147   Dragonair     4.0    16.5\n",
      "148   Dragonite     2.2   210.0\n",
      "149      Mewtwo     2.0   122.0\n",
      "\n",
      "[150 rows x 3 columns]\n"
     ]
    }
   ],
   "source": [
    "# Multiple Columns\n",
    "print(df[[\"Name\",\"Height\",\"Weight\"]])   "
   ]
  },
  {
   "cell_type": "markdown",
   "id": "2f644073-f6cf-4b52-82ac-e8f857c59f40",
   "metadata": {},
   "source": [
    "> Rows (loc vs iloc)"
   ]
  },
  {
   "cell_type": "code",
   "execution_count": 20,
   "id": "1fcab64a-e015-4023-b512-c60f8e14e4e5",
   "metadata": {},
   "outputs": [
    {
     "name": "stdout",
     "output_type": "stream",
     "text": [
      "No                1\n",
      "Type1         Grass\n",
      "Type2        Poison\n",
      "Height          0.7\n",
      "Weight          6.9\n",
      "Legendary         0\n",
      "Name: Bulbasaur, dtype: object\n",
      "No                2\n",
      "Type1         Grass\n",
      "Type2        Poison\n",
      "Height          1.0\n",
      "Weight         13.0\n",
      "Legendary         0\n",
      "Name: Ivysaur, dtype: object\n"
     ]
    }
   ],
   "source": [
    "# you can change the index to name by :\n",
    "df=pd.read_csv('Pokemon.csv',index_col=\"Name\")\n",
    "print(df.loc[\"Bulbasaur\"])\n",
    "print(df.iloc[1])"
   ]
  },
  {
   "cell_type": "markdown",
   "id": "a3519e99-3643-4c69-aeb0-1fc33319da73",
   "metadata": {},
   "source": [
    "**Filtering Data**"
   ]
  },
  {
   "cell_type": "code",
   "execution_count": 21,
   "id": "bf5ed058-e464-4eff-b49c-4efa3c05f5e5",
   "metadata": {},
   "outputs": [
    {
     "name": "stdout",
     "output_type": "stream",
     "text": [
      "             No    Type1    Type2  Height  Weight  Legendary\n",
      "Name                                                        \n",
      "Venusaur      3    Grass   Poison     2.0   100.0          0\n",
      "Ekans        23   Poison      NaN     2.0     6.9          0\n",
      "Arbok        24   Poison      NaN     3.5    65.0          0\n",
      "Onix         95     Rock   Ground     8.8   210.0          0\n",
      "Exeggutor   103    Grass  Psychic     2.0   120.0          0\n",
      "Kangaskhan  115   Normal      NaN     2.2    80.0          0\n",
      "Gyarados    130    Water   Flying     6.5   235.0          0\n",
      "Lapras      131    Water      Ice     2.5   220.0          0\n",
      "Snorlax     143   Normal      NaN     2.1   460.0          0\n",
      "Moltres     146     Fire   Flying     2.0    60.0          1\n",
      "Dragonair   148   Dragon      NaN     4.0    16.5          0\n",
      "Dragonite   149   Dragon   Flying     2.2   210.0          0\n",
      "Mewtwo      150  Psychic      NaN     2.0   122.0          1\n"
     ]
    }
   ],
   "source": [
    "tall_pokemon=df[df[\"Height\"]>=2]\n",
    "print(tall_pokemon)"
   ]
  },
  {
   "cell_type": "code",
   "execution_count": 22,
   "id": "271387c7-abd5-49ce-8b27-fcc6b6e674e9",
   "metadata": {},
   "outputs": [
    {
     "name": "stdout",
     "output_type": "stream",
     "text": [
      "            No     Type1    Type2  Height  Weight  Legendary\n",
      "Name                                                        \n",
      "Venusaur     3     Grass   Poison     2.0   100.0          0\n",
      "Arcanine    59      Fire      NaN     1.9   155.0          0\n",
      "Machamp     68  Fighting      NaN     1.6   130.0          0\n",
      "Graveler    75      Rock   Ground     1.0   105.0          0\n",
      "Golem       76      Rock   Ground     1.4   300.0          0\n",
      "Dewgong     87     Water      Ice     1.7   120.0          0\n",
      "Cloyster    91     Water      Ice     1.5   132.5          0\n",
      "Onix        95      Rock   Ground     8.8   210.0          0\n",
      "Exeggutor  103     Grass  Psychic     2.0   120.0          0\n",
      "Rhyhorn    111    Ground     Rock     1.0   115.0          0\n",
      "Rhydon     112    Ground     Rock     1.9   120.0          0\n",
      "Gyarados   130     Water   Flying     6.5   235.0          0\n",
      "Lapras     131     Water      Ice     2.5   220.0          0\n",
      "Snorlax    143    Normal      NaN     2.1   460.0          0\n",
      "Dragonite  149    Dragon   Flying     2.2   210.0          0\n",
      "Mewtwo     150   Psychic      NaN     2.0   122.0          1\n"
     ]
    }
   ],
   "source": [
    "heavy_pokemon=df[df[\"Weight\"]>=100]\n",
    "print(heavy_pokemon)"
   ]
  },
  {
   "cell_type": "code",
   "execution_count": 23,
   "id": "f144d8da-2e5b-46c1-8c97-e0b4bae8e7c1",
   "metadata": {},
   "outputs": [
    {
     "name": "stdout",
     "output_type": "stream",
     "text": [
      "           No     Type1   Type2  Height  Weight  Legendary\n",
      "Name                                                      \n",
      "Articuno  144       Ice  Flying     1.7    55.4          1\n",
      "Zapdos    145  Electric  Flying     1.6    52.6          1\n",
      "Moltres   146      Fire  Flying     2.0    60.0          1\n",
      "Mewtwo    150   Psychic     NaN     2.0   122.0          1\n"
     ]
    }
   ],
   "source": [
    "legendary_pokemon=df[df[\"Legendary\"]==1]\n",
    "print(legendary_pokemon)"
   ]
  },
  {
   "cell_type": "code",
   "execution_count": 24,
   "id": "8645888d-23dc-4a85-8659-dfee42c98355",
   "metadata": {},
   "outputs": [
    {
     "name": "stdout",
     "output_type": "stream",
     "text": [
      "             No  Type1     Type2  Height  Weight  Legendary\n",
      "Name                                                       \n",
      "Squirtle      7  Water       NaN     0.5     9.0          0\n",
      "Wartortle     8  Water       NaN     1.0    22.5          0\n",
      "Blastoise     9  Water       NaN     1.6    85.5          0\n",
      "Psyduck      54  Water       NaN     0.8    19.6          0\n",
      "Golduck      55  Water       NaN     1.7    76.6          0\n",
      "Poliwag      60  Water       NaN     0.6    12.4          0\n",
      "Poliwhirl    61  Water       NaN     1.0    20.0          0\n",
      "Poliwrath    62  Water  Fighting     1.3    54.0          0\n",
      "Tentacool    72  Water    Poison     0.9    45.5          0\n",
      "Tentacruel   73  Water    Poison     1.6    55.0          0\n",
      "Slowpoke     79  Water   Psychic     1.2    36.0          0\n",
      "Slowbro      80  Water   Psychic     1.6    78.5          0\n",
      "Seel         86  Water       NaN     1.1    90.0          0\n",
      "Dewgong      87  Water       Ice     1.7   120.0          0\n",
      "Shellder     90  Water       NaN     0.3     4.0          0\n",
      "Cloyster     91  Water       Ice     1.5   132.5          0\n",
      "Krabby       98  Water       NaN     0.4     6.5          0\n",
      "Kingler      99  Water       NaN     1.3    60.0          0\n",
      "Horsea      116  Water       NaN     0.4     8.0          0\n",
      "Seadra      117  Water       NaN     1.2    25.0          0\n",
      "Goldeen     118  Water       NaN     0.6    15.0          0\n",
      "Seaking     119  Water       NaN     1.3    39.0          0\n",
      "Staryu      120  Water       NaN     0.8    34.5          0\n",
      "Starmie     121  Water   Psychic     1.1    80.0          0\n",
      "Magikarp    129  Water       NaN     0.9    10.0          0\n",
      "Gyarados    130  Water    Flying     6.5   235.0          0\n",
      "Lapras      131  Water       Ice     2.5   220.0          0\n",
      "Vaporeon    134  Water       NaN     1.0    29.0          0\n",
      "Omanyte     138   Rock     Water     0.4     7.5          0\n",
      "Omastar     139   Rock     Water     1.0    35.0          0\n",
      "Kabuto      140   Rock     Water     0.5    11.5          0\n",
      "Kabutops    141   Rock     Water     1.3    40.5          0\n"
     ]
    }
   ],
   "source": [
    "water_pokemon=df[(df[\"Type1\"]==\"Water\")| (df[\"Type2\"]==\"Water\")]\n",
    "print(water_pokemon)"
   ]
  },
  {
   "cell_type": "markdown",
   "id": "8dae4496-f63a-4773-a27a-b05539ff091c",
   "metadata": {},
   "source": [
    "**Grouping and Aggregation**"
   ]
  },
  {
   "cell_type": "code",
   "execution_count": 25,
   "id": "ffcf6f5c-3ce6-43db-b658-9d004b2acba7",
   "metadata": {},
   "outputs": [
    {
     "data": {
      "text/plain": [
       "No           75.500000\n",
       "Height        1.200000\n",
       "Weight       46.231333\n",
       "Legendary     0.026667\n",
       "dtype: float64"
      ]
     },
     "execution_count": 25,
     "metadata": {},
     "output_type": "execute_result"
    }
   ],
   "source": [
    "df.mean(numeric_only=True)"
   ]
  },
  {
   "cell_type": "code",
   "execution_count": 26,
   "id": "101f4c5a-540b-4aa7-a125-4c127a037d4e",
   "metadata": {},
   "outputs": [
    {
     "name": "stdout",
     "output_type": "stream",
     "text": [
      "1.2\n",
      "0.2\n",
      "8.8\n",
      "180.0\n"
     ]
    }
   ],
   "source": [
    "print(df['Height'].mean())   # Average\n",
    "print(df['Height'].min())    # Max value\n",
    "print(df['Height'].max())    # Min value\n",
    "print(df['Height'].sum())    # Sum\n"
   ]
  },
  {
   "cell_type": "markdown",
   "id": "1499ee0d-0828-461d-ad4c-db6d2ce4fc2f",
   "metadata": {},
   "source": [
    "Groupby()"
   ]
  },
  {
   "cell_type": "code",
   "execution_count": 27,
   "id": "24f0c25c-6c31-416b-8d60-3af33484b0d9",
   "metadata": {},
   "outputs": [
    {
     "name": "stdout",
     "output_type": "stream",
     "text": [
      "Type1\n",
      "Bug         0.900000\n",
      "Dragon      2.666667\n",
      "Electric    0.855556\n",
      "Fairy       0.950000\n",
      "Fighting    1.185714\n",
      "Fire        1.216667\n",
      "Ghost       1.466667\n",
      "Grass       1.083333\n",
      "Ground      0.850000\n",
      "Ice         1.550000\n",
      "Normal      0.986364\n",
      "Poison      1.221429\n",
      "Psychic     1.371429\n",
      "Rock        1.844444\n",
      "Water       1.300000\n",
      "Name: Height, dtype: float64\n"
     ]
    }
   ],
   "source": [
    "grouped=df.groupby(\"Type1\")[\"Height\"].mean()\n",
    "print(grouped)"
   ]
  },
  {
   "cell_type": "code",
   "execution_count": 28,
   "id": "8a915665-8fa9-4770-bf33-0b051a73c9b0",
   "metadata": {},
   "outputs": [
    {
     "name": "stdout",
     "output_type": "stream",
     "text": [
      "Type1\n",
      "Bug         12\n",
      "Dragon       3\n",
      "Electric     9\n",
      "Fairy        2\n",
      "Fighting     7\n",
      "Fire        12\n",
      "Ghost        3\n",
      "Grass       12\n",
      "Ground       8\n",
      "Ice          2\n",
      "Normal      22\n",
      "Poison      14\n",
      "Psychic      7\n",
      "Rock         9\n",
      "Water       28\n",
      "Name: Height, dtype: int64\n"
     ]
    }
   ],
   "source": [
    "grouped=df.groupby(\"Type1\")[\"Height\"].count()\n",
    "print(grouped)"
   ]
  },
  {
   "cell_type": "markdown",
   "id": "b899277f-f23b-4c69-8bd6-55b3476933ff",
   "metadata": {},
   "source": [
    "**Data Cleaning**"
   ]
  },
  {
   "cell_type": "markdown",
   "id": "86c92327-5ac0-4d5b-b2d3-a8f69a227610",
   "metadata": {},
   "source": [
    "Drop irrelevant column"
   ]
  },
  {
   "cell_type": "code",
   "execution_count": 29,
   "id": "5096eac1-f837-4ebc-b641-120819392a12",
   "metadata": {},
   "outputs": [
    {
     "name": "stdout",
     "output_type": "stream",
     "text": [
      "              Type1   Type2  Height  Weight  Legendary\n",
      "Name                                                  \n",
      "Bulbasaur     Grass  Poison     0.7     6.9          0\n",
      "Ivysaur       Grass  Poison     1.0    13.0          0\n",
      "Venusaur      Grass  Poison     2.0   100.0          0\n",
      "Charmander     Fire     NaN     0.6     8.5          0\n",
      "Charmeleon     Fire     NaN     1.1    19.0          0\n",
      "...             ...     ...     ...     ...        ...\n",
      "Moltres        Fire  Flying     2.0    60.0          1\n",
      "Dratini      Dragon     NaN     1.8     3.3          0\n",
      "Dragonair    Dragon     NaN     4.0    16.5          0\n",
      "Dragonite    Dragon  Flying     2.2   210.0          0\n",
      "Mewtwo      Psychic     NaN     2.0   122.0          1\n",
      "\n",
      "[150 rows x 5 columns]\n"
     ]
    }
   ],
   "source": [
    "df=df.drop(columns=[\"No\"])\n",
    "print(df)"
   ]
  },
  {
   "cell_type": "markdown",
   "id": "ef1875a3-6cd2-454e-afea-f551322da616",
   "metadata": {},
   "source": [
    "Handle missing values"
   ]
  },
  {
   "cell_type": "markdown",
   "id": "4ea8e096-d15b-4d8e-a70f-134d727f5c7d",
   "metadata": {},
   "source": [
    "1. isnull()-> Check missing"
   ]
  },
  {
   "cell_type": "code",
   "execution_count": 30,
   "id": "5e3d5f65-de36-41eb-af47-9b822b4c030f",
   "metadata": {},
   "outputs": [
    {
     "data": {
      "text/html": [
       "<div>\n",
       "<style scoped>\n",
       "    .dataframe tbody tr th:only-of-type {\n",
       "        vertical-align: middle;\n",
       "    }\n",
       "\n",
       "    .dataframe tbody tr th {\n",
       "        vertical-align: top;\n",
       "    }\n",
       "\n",
       "    .dataframe thead th {\n",
       "        text-align: right;\n",
       "    }\n",
       "</style>\n",
       "<table border=\"1\" class=\"dataframe\">\n",
       "  <thead>\n",
       "    <tr style=\"text-align: right;\">\n",
       "      <th></th>\n",
       "      <th>Type1</th>\n",
       "      <th>Type2</th>\n",
       "      <th>Height</th>\n",
       "      <th>Weight</th>\n",
       "      <th>Legendary</th>\n",
       "    </tr>\n",
       "    <tr>\n",
       "      <th>Name</th>\n",
       "      <th></th>\n",
       "      <th></th>\n",
       "      <th></th>\n",
       "      <th></th>\n",
       "      <th></th>\n",
       "    </tr>\n",
       "  </thead>\n",
       "  <tbody>\n",
       "    <tr>\n",
       "      <th>Bulbasaur</th>\n",
       "      <td>False</td>\n",
       "      <td>False</td>\n",
       "      <td>False</td>\n",
       "      <td>False</td>\n",
       "      <td>False</td>\n",
       "    </tr>\n",
       "    <tr>\n",
       "      <th>Ivysaur</th>\n",
       "      <td>False</td>\n",
       "      <td>False</td>\n",
       "      <td>False</td>\n",
       "      <td>False</td>\n",
       "      <td>False</td>\n",
       "    </tr>\n",
       "    <tr>\n",
       "      <th>Venusaur</th>\n",
       "      <td>False</td>\n",
       "      <td>False</td>\n",
       "      <td>False</td>\n",
       "      <td>False</td>\n",
       "      <td>False</td>\n",
       "    </tr>\n",
       "    <tr>\n",
       "      <th>Charmander</th>\n",
       "      <td>False</td>\n",
       "      <td>True</td>\n",
       "      <td>False</td>\n",
       "      <td>False</td>\n",
       "      <td>False</td>\n",
       "    </tr>\n",
       "    <tr>\n",
       "      <th>Charmeleon</th>\n",
       "      <td>False</td>\n",
       "      <td>True</td>\n",
       "      <td>False</td>\n",
       "      <td>False</td>\n",
       "      <td>False</td>\n",
       "    </tr>\n",
       "    <tr>\n",
       "      <th>...</th>\n",
       "      <td>...</td>\n",
       "      <td>...</td>\n",
       "      <td>...</td>\n",
       "      <td>...</td>\n",
       "      <td>...</td>\n",
       "    </tr>\n",
       "    <tr>\n",
       "      <th>Moltres</th>\n",
       "      <td>False</td>\n",
       "      <td>False</td>\n",
       "      <td>False</td>\n",
       "      <td>False</td>\n",
       "      <td>False</td>\n",
       "    </tr>\n",
       "    <tr>\n",
       "      <th>Dratini</th>\n",
       "      <td>False</td>\n",
       "      <td>True</td>\n",
       "      <td>False</td>\n",
       "      <td>False</td>\n",
       "      <td>False</td>\n",
       "    </tr>\n",
       "    <tr>\n",
       "      <th>Dragonair</th>\n",
       "      <td>False</td>\n",
       "      <td>True</td>\n",
       "      <td>False</td>\n",
       "      <td>False</td>\n",
       "      <td>False</td>\n",
       "    </tr>\n",
       "    <tr>\n",
       "      <th>Dragonite</th>\n",
       "      <td>False</td>\n",
       "      <td>False</td>\n",
       "      <td>False</td>\n",
       "      <td>False</td>\n",
       "      <td>False</td>\n",
       "    </tr>\n",
       "    <tr>\n",
       "      <th>Mewtwo</th>\n",
       "      <td>False</td>\n",
       "      <td>True</td>\n",
       "      <td>False</td>\n",
       "      <td>False</td>\n",
       "      <td>False</td>\n",
       "    </tr>\n",
       "  </tbody>\n",
       "</table>\n",
       "<p>150 rows × 5 columns</p>\n",
       "</div>"
      ],
      "text/plain": [
       "            Type1  Type2  Height  Weight  Legendary\n",
       "Name                                               \n",
       "Bulbasaur   False  False   False   False      False\n",
       "Ivysaur     False  False   False   False      False\n",
       "Venusaur    False  False   False   False      False\n",
       "Charmander  False   True   False   False      False\n",
       "Charmeleon  False   True   False   False      False\n",
       "...           ...    ...     ...     ...        ...\n",
       "Moltres     False  False   False   False      False\n",
       "Dratini     False   True   False   False      False\n",
       "Dragonair   False   True   False   False      False\n",
       "Dragonite   False  False   False   False      False\n",
       "Mewtwo      False   True   False   False      False\n",
       "\n",
       "[150 rows x 5 columns]"
      ]
     },
     "execution_count": 30,
     "metadata": {},
     "output_type": "execute_result"
    }
   ],
   "source": [
    "df.isnull()  "
   ]
  },
  {
   "cell_type": "markdown",
   "id": "286d398b-5867-4643-9491-9bca476135dd",
   "metadata": {},
   "source": [
    "2. df.dropna()  ->Remove missing rows"
   ]
  },
  {
   "cell_type": "code",
   "execution_count": 31,
   "id": "e40dfdac-c0be-4fe2-9127-a79332f04a22",
   "metadata": {},
   "outputs": [
    {
     "data": {
      "text/html": [
       "<div>\n",
       "<style scoped>\n",
       "    .dataframe tbody tr th:only-of-type {\n",
       "        vertical-align: middle;\n",
       "    }\n",
       "\n",
       "    .dataframe tbody tr th {\n",
       "        vertical-align: top;\n",
       "    }\n",
       "\n",
       "    .dataframe thead th {\n",
       "        text-align: right;\n",
       "    }\n",
       "</style>\n",
       "<table border=\"1\" class=\"dataframe\">\n",
       "  <thead>\n",
       "    <tr style=\"text-align: right;\">\n",
       "      <th></th>\n",
       "      <th>No</th>\n",
       "      <th>Name</th>\n",
       "      <th>Type1</th>\n",
       "      <th>Type2</th>\n",
       "      <th>Height</th>\n",
       "      <th>Weight</th>\n",
       "      <th>Legendary</th>\n",
       "    </tr>\n",
       "  </thead>\n",
       "  <tbody>\n",
       "    <tr>\n",
       "      <th>0</th>\n",
       "      <td>1</td>\n",
       "      <td>Bulbasaur</td>\n",
       "      <td>Grass</td>\n",
       "      <td>Poison</td>\n",
       "      <td>0.7</td>\n",
       "      <td>6.9</td>\n",
       "      <td>0</td>\n",
       "    </tr>\n",
       "    <tr>\n",
       "      <th>1</th>\n",
       "      <td>2</td>\n",
       "      <td>Ivysaur</td>\n",
       "      <td>Grass</td>\n",
       "      <td>Poison</td>\n",
       "      <td>1.0</td>\n",
       "      <td>13.0</td>\n",
       "      <td>0</td>\n",
       "    </tr>\n",
       "    <tr>\n",
       "      <th>2</th>\n",
       "      <td>3</td>\n",
       "      <td>Venusaur</td>\n",
       "      <td>Grass</td>\n",
       "      <td>Poison</td>\n",
       "      <td>2.0</td>\n",
       "      <td>100.0</td>\n",
       "      <td>0</td>\n",
       "    </tr>\n",
       "    <tr>\n",
       "      <th>5</th>\n",
       "      <td>6</td>\n",
       "      <td>Charizard</td>\n",
       "      <td>Fire</td>\n",
       "      <td>Flying</td>\n",
       "      <td>1.7</td>\n",
       "      <td>90.5</td>\n",
       "      <td>0</td>\n",
       "    </tr>\n",
       "    <tr>\n",
       "      <th>11</th>\n",
       "      <td>12</td>\n",
       "      <td>Butterfree</td>\n",
       "      <td>Bug</td>\n",
       "      <td>Flying</td>\n",
       "      <td>1.1</td>\n",
       "      <td>32.0</td>\n",
       "      <td>0</td>\n",
       "    </tr>\n",
       "    <tr>\n",
       "      <th>...</th>\n",
       "      <td>...</td>\n",
       "      <td>...</td>\n",
       "      <td>...</td>\n",
       "      <td>...</td>\n",
       "      <td>...</td>\n",
       "      <td>...</td>\n",
       "      <td>...</td>\n",
       "    </tr>\n",
       "    <tr>\n",
       "      <th>141</th>\n",
       "      <td>142</td>\n",
       "      <td>Aerodactyl</td>\n",
       "      <td>Rock</td>\n",
       "      <td>Flying</td>\n",
       "      <td>1.8</td>\n",
       "      <td>59.0</td>\n",
       "      <td>0</td>\n",
       "    </tr>\n",
       "    <tr>\n",
       "      <th>143</th>\n",
       "      <td>144</td>\n",
       "      <td>Articuno</td>\n",
       "      <td>Ice</td>\n",
       "      <td>Flying</td>\n",
       "      <td>1.7</td>\n",
       "      <td>55.4</td>\n",
       "      <td>1</td>\n",
       "    </tr>\n",
       "    <tr>\n",
       "      <th>144</th>\n",
       "      <td>145</td>\n",
       "      <td>Zapdos</td>\n",
       "      <td>Electric</td>\n",
       "      <td>Flying</td>\n",
       "      <td>1.6</td>\n",
       "      <td>52.6</td>\n",
       "      <td>1</td>\n",
       "    </tr>\n",
       "    <tr>\n",
       "      <th>145</th>\n",
       "      <td>146</td>\n",
       "      <td>Moltres</td>\n",
       "      <td>Fire</td>\n",
       "      <td>Flying</td>\n",
       "      <td>2.0</td>\n",
       "      <td>60.0</td>\n",
       "      <td>1</td>\n",
       "    </tr>\n",
       "    <tr>\n",
       "      <th>148</th>\n",
       "      <td>149</td>\n",
       "      <td>Dragonite</td>\n",
       "      <td>Dragon</td>\n",
       "      <td>Flying</td>\n",
       "      <td>2.2</td>\n",
       "      <td>210.0</td>\n",
       "      <td>0</td>\n",
       "    </tr>\n",
       "  </tbody>\n",
       "</table>\n",
       "<p>67 rows × 7 columns</p>\n",
       "</div>"
      ],
      "text/plain": [
       "      No        Name     Type1   Type2  Height  Weight  Legendary\n",
       "0      1   Bulbasaur     Grass  Poison     0.7     6.9          0\n",
       "1      2     Ivysaur     Grass  Poison     1.0    13.0          0\n",
       "2      3    Venusaur     Grass  Poison     2.0   100.0          0\n",
       "5      6   Charizard      Fire  Flying     1.7    90.5          0\n",
       "11    12  Butterfree       Bug  Flying     1.1    32.0          0\n",
       "..   ...         ...       ...     ...     ...     ...        ...\n",
       "141  142  Aerodactyl      Rock  Flying     1.8    59.0          0\n",
       "143  144    Articuno       Ice  Flying     1.7    55.4          1\n",
       "144  145      Zapdos  Electric  Flying     1.6    52.6          1\n",
       "145  146     Moltres      Fire  Flying     2.0    60.0          1\n",
       "148  149   Dragonite    Dragon  Flying     2.2   210.0          0\n",
       "\n",
       "[67 rows x 7 columns]"
      ]
     },
     "execution_count": 31,
     "metadata": {},
     "output_type": "execute_result"
    }
   ],
   "source": [
    "\n",
    "df=pd.read_csv(\"Pokemon.csv\")\n",
    "df.dropna(subset=[\"Type2\"])      # ALl rows with type2= NaN  are removed"
   ]
  },
  {
   "cell_type": "markdown",
   "id": "0c8999a8-5107-46a7-b18b-23fbcc2b09eb",
   "metadata": {},
   "source": [
    "3. df.fillna()->  Replace missing values"
   ]
  },
  {
   "cell_type": "code",
   "execution_count": 32,
   "id": "47dc1fae-70b3-42b1-94f2-972a935438b1",
   "metadata": {},
   "outputs": [
    {
     "data": {
      "text/html": [
       "<div>\n",
       "<style scoped>\n",
       "    .dataframe tbody tr th:only-of-type {\n",
       "        vertical-align: middle;\n",
       "    }\n",
       "\n",
       "    .dataframe tbody tr th {\n",
       "        vertical-align: top;\n",
       "    }\n",
       "\n",
       "    .dataframe thead th {\n",
       "        text-align: right;\n",
       "    }\n",
       "</style>\n",
       "<table border=\"1\" class=\"dataframe\">\n",
       "  <thead>\n",
       "    <tr style=\"text-align: right;\">\n",
       "      <th></th>\n",
       "      <th>No</th>\n",
       "      <th>Name</th>\n",
       "      <th>Type1</th>\n",
       "      <th>Type2</th>\n",
       "      <th>Height</th>\n",
       "      <th>Weight</th>\n",
       "      <th>Legendary</th>\n",
       "    </tr>\n",
       "  </thead>\n",
       "  <tbody>\n",
       "    <tr>\n",
       "      <th>0</th>\n",
       "      <td>1</td>\n",
       "      <td>Bulbasaur</td>\n",
       "      <td>Grass</td>\n",
       "      <td>Poison</td>\n",
       "      <td>0.7</td>\n",
       "      <td>6.9</td>\n",
       "      <td>0</td>\n",
       "    </tr>\n",
       "    <tr>\n",
       "      <th>1</th>\n",
       "      <td>2</td>\n",
       "      <td>Ivysaur</td>\n",
       "      <td>Grass</td>\n",
       "      <td>Poison</td>\n",
       "      <td>1.0</td>\n",
       "      <td>13.0</td>\n",
       "      <td>0</td>\n",
       "    </tr>\n",
       "    <tr>\n",
       "      <th>2</th>\n",
       "      <td>3</td>\n",
       "      <td>Venusaur</td>\n",
       "      <td>Grass</td>\n",
       "      <td>Poison</td>\n",
       "      <td>2.0</td>\n",
       "      <td>100.0</td>\n",
       "      <td>0</td>\n",
       "    </tr>\n",
       "    <tr>\n",
       "      <th>3</th>\n",
       "      <td>4</td>\n",
       "      <td>Charmander</td>\n",
       "      <td>Fire</td>\n",
       "      <td>None</td>\n",
       "      <td>0.6</td>\n",
       "      <td>8.5</td>\n",
       "      <td>0</td>\n",
       "    </tr>\n",
       "    <tr>\n",
       "      <th>4</th>\n",
       "      <td>5</td>\n",
       "      <td>Charmeleon</td>\n",
       "      <td>Fire</td>\n",
       "      <td>None</td>\n",
       "      <td>1.1</td>\n",
       "      <td>19.0</td>\n",
       "      <td>0</td>\n",
       "    </tr>\n",
       "    <tr>\n",
       "      <th>...</th>\n",
       "      <td>...</td>\n",
       "      <td>...</td>\n",
       "      <td>...</td>\n",
       "      <td>...</td>\n",
       "      <td>...</td>\n",
       "      <td>...</td>\n",
       "      <td>...</td>\n",
       "    </tr>\n",
       "    <tr>\n",
       "      <th>145</th>\n",
       "      <td>146</td>\n",
       "      <td>Moltres</td>\n",
       "      <td>Fire</td>\n",
       "      <td>Flying</td>\n",
       "      <td>2.0</td>\n",
       "      <td>60.0</td>\n",
       "      <td>1</td>\n",
       "    </tr>\n",
       "    <tr>\n",
       "      <th>146</th>\n",
       "      <td>147</td>\n",
       "      <td>Dratini</td>\n",
       "      <td>Dragon</td>\n",
       "      <td>None</td>\n",
       "      <td>1.8</td>\n",
       "      <td>3.3</td>\n",
       "      <td>0</td>\n",
       "    </tr>\n",
       "    <tr>\n",
       "      <th>147</th>\n",
       "      <td>148</td>\n",
       "      <td>Dragonair</td>\n",
       "      <td>Dragon</td>\n",
       "      <td>None</td>\n",
       "      <td>4.0</td>\n",
       "      <td>16.5</td>\n",
       "      <td>0</td>\n",
       "    </tr>\n",
       "    <tr>\n",
       "      <th>148</th>\n",
       "      <td>149</td>\n",
       "      <td>Dragonite</td>\n",
       "      <td>Dragon</td>\n",
       "      <td>Flying</td>\n",
       "      <td>2.2</td>\n",
       "      <td>210.0</td>\n",
       "      <td>0</td>\n",
       "    </tr>\n",
       "    <tr>\n",
       "      <th>149</th>\n",
       "      <td>150</td>\n",
       "      <td>Mewtwo</td>\n",
       "      <td>Psychic</td>\n",
       "      <td>None</td>\n",
       "      <td>2.0</td>\n",
       "      <td>122.0</td>\n",
       "      <td>1</td>\n",
       "    </tr>\n",
       "  </tbody>\n",
       "</table>\n",
       "<p>150 rows × 7 columns</p>\n",
       "</div>"
      ],
      "text/plain": [
       "      No        Name    Type1   Type2  Height  Weight  Legendary\n",
       "0      1   Bulbasaur    Grass  Poison     0.7     6.9          0\n",
       "1      2     Ivysaur    Grass  Poison     1.0    13.0          0\n",
       "2      3    Venusaur    Grass  Poison     2.0   100.0          0\n",
       "3      4  Charmander     Fire    None     0.6     8.5          0\n",
       "4      5  Charmeleon     Fire    None     1.1    19.0          0\n",
       "..   ...         ...      ...     ...     ...     ...        ...\n",
       "145  146     Moltres     Fire  Flying     2.0    60.0          1\n",
       "146  147     Dratini   Dragon    None     1.8     3.3          0\n",
       "147  148   Dragonair   Dragon    None     4.0    16.5          0\n",
       "148  149   Dragonite   Dragon  Flying     2.2   210.0          0\n",
       "149  150      Mewtwo  Psychic    None     2.0   122.0          1\n",
       "\n",
       "[150 rows x 7 columns]"
      ]
     },
     "execution_count": 32,
     "metadata": {},
     "output_type": "execute_result"
    }
   ],
   "source": [
    "df.fillna({\"Type2\":\"None\"})"
   ]
  },
  {
   "cell_type": "markdown",
   "id": "6795f1f8-46e8-40c0-bac0-a3703c2c2cd3",
   "metadata": {},
   "source": [
    "Drop Duplicates"
   ]
  },
  {
   "cell_type": "code",
   "execution_count": 33,
   "id": "b765a399-b2f4-4c9c-a9e7-d7b8c4a0b803",
   "metadata": {},
   "outputs": [
    {
     "data": {
      "text/html": [
       "<div>\n",
       "<style scoped>\n",
       "    .dataframe tbody tr th:only-of-type {\n",
       "        vertical-align: middle;\n",
       "    }\n",
       "\n",
       "    .dataframe tbody tr th {\n",
       "        vertical-align: top;\n",
       "    }\n",
       "\n",
       "    .dataframe thead th {\n",
       "        text-align: right;\n",
       "    }\n",
       "</style>\n",
       "<table border=\"1\" class=\"dataframe\">\n",
       "  <thead>\n",
       "    <tr style=\"text-align: right;\">\n",
       "      <th></th>\n",
       "      <th>No</th>\n",
       "      <th>Name</th>\n",
       "      <th>Type1</th>\n",
       "      <th>Type2</th>\n",
       "      <th>Height</th>\n",
       "      <th>Weight</th>\n",
       "      <th>Legendary</th>\n",
       "    </tr>\n",
       "  </thead>\n",
       "  <tbody>\n",
       "    <tr>\n",
       "      <th>0</th>\n",
       "      <td>1</td>\n",
       "      <td>Bulbasaur</td>\n",
       "      <td>Grass</td>\n",
       "      <td>Poison</td>\n",
       "      <td>0.7</td>\n",
       "      <td>6.9</td>\n",
       "      <td>0</td>\n",
       "    </tr>\n",
       "    <tr>\n",
       "      <th>1</th>\n",
       "      <td>2</td>\n",
       "      <td>Ivysaur</td>\n",
       "      <td>Grass</td>\n",
       "      <td>Poison</td>\n",
       "      <td>1.0</td>\n",
       "      <td>13.0</td>\n",
       "      <td>0</td>\n",
       "    </tr>\n",
       "    <tr>\n",
       "      <th>2</th>\n",
       "      <td>3</td>\n",
       "      <td>Venusaur</td>\n",
       "      <td>Grass</td>\n",
       "      <td>Poison</td>\n",
       "      <td>2.0</td>\n",
       "      <td>100.0</td>\n",
       "      <td>0</td>\n",
       "    </tr>\n",
       "    <tr>\n",
       "      <th>3</th>\n",
       "      <td>4</td>\n",
       "      <td>Charmander</td>\n",
       "      <td>Fire</td>\n",
       "      <td>NaN</td>\n",
       "      <td>0.6</td>\n",
       "      <td>8.5</td>\n",
       "      <td>0</td>\n",
       "    </tr>\n",
       "    <tr>\n",
       "      <th>4</th>\n",
       "      <td>5</td>\n",
       "      <td>Charmeleon</td>\n",
       "      <td>Fire</td>\n",
       "      <td>NaN</td>\n",
       "      <td>1.1</td>\n",
       "      <td>19.0</td>\n",
       "      <td>0</td>\n",
       "    </tr>\n",
       "    <tr>\n",
       "      <th>...</th>\n",
       "      <td>...</td>\n",
       "      <td>...</td>\n",
       "      <td>...</td>\n",
       "      <td>...</td>\n",
       "      <td>...</td>\n",
       "      <td>...</td>\n",
       "      <td>...</td>\n",
       "    </tr>\n",
       "    <tr>\n",
       "      <th>145</th>\n",
       "      <td>146</td>\n",
       "      <td>Moltres</td>\n",
       "      <td>Fire</td>\n",
       "      <td>Flying</td>\n",
       "      <td>2.0</td>\n",
       "      <td>60.0</td>\n",
       "      <td>1</td>\n",
       "    </tr>\n",
       "    <tr>\n",
       "      <th>146</th>\n",
       "      <td>147</td>\n",
       "      <td>Dratini</td>\n",
       "      <td>Dragon</td>\n",
       "      <td>NaN</td>\n",
       "      <td>1.8</td>\n",
       "      <td>3.3</td>\n",
       "      <td>0</td>\n",
       "    </tr>\n",
       "    <tr>\n",
       "      <th>147</th>\n",
       "      <td>148</td>\n",
       "      <td>Dragonair</td>\n",
       "      <td>Dragon</td>\n",
       "      <td>NaN</td>\n",
       "      <td>4.0</td>\n",
       "      <td>16.5</td>\n",
       "      <td>0</td>\n",
       "    </tr>\n",
       "    <tr>\n",
       "      <th>148</th>\n",
       "      <td>149</td>\n",
       "      <td>Dragonite</td>\n",
       "      <td>Dragon</td>\n",
       "      <td>Flying</td>\n",
       "      <td>2.2</td>\n",
       "      <td>210.0</td>\n",
       "      <td>0</td>\n",
       "    </tr>\n",
       "    <tr>\n",
       "      <th>149</th>\n",
       "      <td>150</td>\n",
       "      <td>Mewtwo</td>\n",
       "      <td>Psychic</td>\n",
       "      <td>NaN</td>\n",
       "      <td>2.0</td>\n",
       "      <td>122.0</td>\n",
       "      <td>1</td>\n",
       "    </tr>\n",
       "  </tbody>\n",
       "</table>\n",
       "<p>150 rows × 7 columns</p>\n",
       "</div>"
      ],
      "text/plain": [
       "      No        Name    Type1   Type2  Height  Weight  Legendary\n",
       "0      1   Bulbasaur    Grass  Poison     0.7     6.9          0\n",
       "1      2     Ivysaur    Grass  Poison     1.0    13.0          0\n",
       "2      3    Venusaur    Grass  Poison     2.0   100.0          0\n",
       "3      4  Charmander     Fire     NaN     0.6     8.5          0\n",
       "4      5  Charmeleon     Fire     NaN     1.1    19.0          0\n",
       "..   ...         ...      ...     ...     ...     ...        ...\n",
       "145  146     Moltres     Fire  Flying     2.0    60.0          1\n",
       "146  147     Dratini   Dragon     NaN     1.8     3.3          0\n",
       "147  148   Dragonair   Dragon     NaN     4.0    16.5          0\n",
       "148  149   Dragonite   Dragon  Flying     2.2   210.0          0\n",
       "149  150      Mewtwo  Psychic     NaN     2.0   122.0          1\n",
       "\n",
       "[150 rows x 7 columns]"
      ]
     },
     "execution_count": 33,
     "metadata": {},
     "output_type": "execute_result"
    }
   ],
   "source": [
    "df.drop_duplicates()"
   ]
  }
 ],
 "metadata": {
  "kernelspec": {
   "display_name": "Python 3 (ipykernel)",
   "language": "python",
   "name": "python3"
  },
  "language_info": {
   "codemirror_mode": {
    "name": "ipython",
    "version": 3
   },
   "file_extension": ".py",
   "mimetype": "text/x-python",
   "name": "python",
   "nbconvert_exporter": "python",
   "pygments_lexer": "ipython3",
   "version": "3.13.7"
  }
 },
 "nbformat": 4,
 "nbformat_minor": 5
}
