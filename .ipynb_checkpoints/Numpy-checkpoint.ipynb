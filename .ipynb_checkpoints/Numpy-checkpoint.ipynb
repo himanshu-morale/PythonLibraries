{
 "cells": [
  {
   "cell_type": "markdown",
   "id": "0af05d6a-f411-4e6c-b200-7a2422b79633",
   "metadata": {},
   "source": [
    "# **Numpy**"
   ]
  },
  {
   "cell_type": "markdown",
   "id": "38bf8daa-c007-4364-8c8c-0e100fbe8a25",
   "metadata": {},
   "source": [
    "**What is numpy**"
   ]
  },
  {
   "cell_type": "markdown",
   "id": "be2396e9-28a1-4874-96d9-3368b60c56ab",
   "metadata": {},
   "source": [
    "It is a python library that is used to perform numerical and scientific computing.<br>\n",
    "It is used for:<br>\n",
    "* Working with arrays\n",
    "* Performing mathematical , statistical and logical operations\n",
    "* Handling linear algebra, fourier transforms, random numbers, etc."
   ]
  },
  {
   "cell_type": "markdown",
   "id": "b1cb71ef-0244-4771-a017-19f36c068423",
   "metadata": {},
   "source": [
    "**Numpy Arrays**"
   ]
  },
  {
   "cell_type": "markdown",
   "id": "6ea854b5-d51c-4520-83a1-0b51dfc636fd",
   "metadata": {},
   "source": [
    "Numpy provides an nd array which is similar to a python list but more faster and efficient and also support vectorised opertaions."
   ]
  },
  {
   "cell_type": "markdown",
   "id": "cad33ced-2ec2-4cf7-9461-31c3b002fb1b",
   "metadata": {},
   "source": [
    "**Creating Arrays:**"
   ]
  },
  {
   "cell_type": "code",
   "execution_count": 1,
   "id": "ddc1e9df-02e1-4538-aedc-584e586d3ffd",
   "metadata": {},
   "outputs": [
    {
     "name": "stdout",
     "output_type": "stream",
     "text": [
      "[1 2 3]\n",
      "<class 'numpy.ndarray'>\n"
     ]
    }
   ],
   "source": [
    "import numpy as np\n",
    "arr=np.array([1,2,3])\n",
    "print(arr)\n",
    "print(type(arr))"
   ]
  },
  {
   "cell_type": "code",
   "execution_count": 2,
   "id": "76a5b396-2f65-4e69-b0d1-9418d7e5ec47",
   "metadata": {},
   "outputs": [
    {
     "name": "stdout",
     "output_type": "stream",
     "text": [
      "[[1 2 3]\n",
      " [4 5 6]\n",
      " [7 8 9]]\n",
      "Dimension: 2\n"
     ]
    }
   ],
   "source": [
    "arr2=np.array([[1,2,3],[4,5,6],[7,8,9]])\n",
    "print(arr2)\n",
    "print(\"Dimension:\",arr2.ndim)"
   ]
  },
  {
   "cell_type": "markdown",
   "id": "f004354c-b0b4-44d1-89aa-cbd96fe55a51",
   "metadata": {},
   "source": [
    "**Usefull Array Attributes**"
   ]
  },
  {
   "cell_type": "code",
   "execution_count": 3,
   "id": "e13784b4-f372-48b3-a207-1ab6f21518bf",
   "metadata": {},
   "outputs": [
    {
     "name": "stdout",
     "output_type": "stream",
     "text": [
      "(2, 3)\n",
      "6\n",
      "int64\n"
     ]
    }
   ],
   "source": [
    "arr = np.array([[1,2,3],[4,5,6]])\n",
    "\n",
    "print(arr.shape)   # (2,3)\n",
    "print(arr.size)    # 6\n",
    "print(arr.dtype)   # int64 (depends on system)"
   ]
  },
  {
   "cell_type": "markdown",
   "id": "4127e31d-dd2d-4561-a644-d1d23b9d872a",
   "metadata": {},
   "source": [
    "**Array Creation functions:**"
   ]
  },
  {
   "cell_type": "markdown",
   "id": "e248f660-ad43-4bad-a2c0-23465a6fe61e",
   "metadata": {},
   "source": [
    "1. np.zeros() -creates an array of zeros"
   ]
  },
  {
   "cell_type": "code",
   "execution_count": 4,
   "id": "ed64cbeb-8b3c-4320-914f-70946a2a7475",
   "metadata": {},
   "outputs": [
    {
     "name": "stdout",
     "output_type": "stream",
     "text": [
      "[0. 0. 0. 0.]\n"
     ]
    }
   ],
   "source": [
    "zeros=np.zeros(4)\n",
    "print(zeros)"
   ]
  },
  {
   "cell_type": "code",
   "execution_count": 5,
   "id": "da43515f-b57e-46e4-9cd0-5138c302d46f",
   "metadata": {},
   "outputs": [
    {
     "name": "stdout",
     "output_type": "stream",
     "text": [
      "[[0. 0. 0.]\n",
      " [0. 0. 0.]]\n"
     ]
    }
   ],
   "source": [
    "zeros=np.zeros((2,3))\n",
    "print(zeros)"
   ]
  },
  {
   "cell_type": "markdown",
   "id": "c58604e9-2dc3-41d7-a358-863475b28f75",
   "metadata": {},
   "source": [
    "2. np.ones() -creates an array of ones"
   ]
  },
  {
   "cell_type": "code",
   "execution_count": 6,
   "id": "f0b5a4e2-3453-4f22-8ef9-430e65dca248",
   "metadata": {},
   "outputs": [
    {
     "name": "stdout",
     "output_type": "stream",
     "text": [
      "[1. 1. 1. 1. 1. 1. 1. 1. 1. 1.]\n"
     ]
    }
   ],
   "source": [
    "ones=np.ones(10)\n",
    "print(ones)"
   ]
  },
  {
   "cell_type": "code",
   "execution_count": 7,
   "id": "38f5e5d5-fc8e-490e-9ba4-7378f4497a29",
   "metadata": {},
   "outputs": [
    {
     "name": "stdout",
     "output_type": "stream",
     "text": [
      "[[1 1 1 1]\n",
      " [1 1 1 1]\n",
      " [1 1 1 1]]\n"
     ]
    }
   ],
   "source": [
    "# you can also convert the floating elements into intege by using dtype=int8,int32,int64....\n",
    "ones=np.ones((3,4),dtype=np.int32)\n",
    "print(ones)"
   ]
  },
  {
   "cell_type": "markdown",
   "id": "d141c049-7fb3-481e-9c91-0ad0c9a99f43",
   "metadata": {},
   "source": [
    "3. np.empty() -creates an empty array with specified shape and size"
   ]
  },
  {
   "cell_type": "code",
   "execution_count": 8,
   "id": "4a2782f2-c61a-42f0-afd3-e23817e6d0da",
   "metadata": {},
   "outputs": [
    {
     "name": "stdout",
     "output_type": "stream",
     "text": [
      "[6.23042070e-307 4.67296746e-307 1.69121096e-306 3.22648102e-307\n",
      " 2.67022953e-307 9.71874072e-312]\n"
     ]
    }
   ],
   "source": [
    "empty=np.empty(6)\n",
    "print(empty)"
   ]
  },
  {
   "cell_type": "markdown",
   "id": "ce26713a-ded6-4246-baab-5a6e39d60f06",
   "metadata": {},
   "source": [
    "4. arange()- Creates an array with specified range of number"
   ]
  },
  {
   "cell_type": "code",
   "execution_count": 9,
   "id": "c719e2d5-a036-41ba-98b8-42ea8db59289",
   "metadata": {},
   "outputs": [
    {
     "data": {
      "text/plain": [
       "array([0, 1, 2, 3, 4, 5, 6, 7, 8, 9])"
      ]
     },
     "execution_count": 9,
     "metadata": {},
     "output_type": "execute_result"
    }
   ],
   "source": [
    "np.arange(10)"
   ]
  },
  {
   "cell_type": "code",
   "execution_count": 10,
   "id": "952f1046-0922-481d-a5a2-05b0e52a65ce",
   "metadata": {},
   "outputs": [
    {
     "data": {
      "text/plain": [
       "array([2, 4, 6, 8])"
      ]
     },
     "execution_count": 10,
     "metadata": {},
     "output_type": "execute_result"
    }
   ],
   "source": [
    "np.arange(2,9,2)    # start,end,step"
   ]
  },
  {
   "cell_type": "markdown",
   "id": "f64ba894-36e5-4482-a31f-ef98e355871a",
   "metadata": {},
   "source": [
    "5. linspace() -creates an array with values that are spaced linearly in a specified interval."
   ]
  },
  {
   "cell_type": "code",
   "execution_count": 11,
   "id": "b1abca07-21c9-4a7d-80f7-c91f38258839",
   "metadata": {},
   "outputs": [
    {
     "data": {
      "text/plain": [
       "array([ 1.  ,  3.25,  5.5 ,  7.75, 10.  ])"
      ]
     },
     "execution_count": 11,
     "metadata": {},
     "output_type": "execute_result"
    }
   ],
   "source": [
    "np.linspace(1,10,5)    # start,stop,number of elements"
   ]
  },
  {
   "cell_type": "markdown",
   "id": "88078e0e-8419-426e-a8fd-70d5573bdcf2",
   "metadata": {},
   "source": [
    "6. np.identity() - creates an identity matrix of specified dimension"
   ]
  },
  {
   "cell_type": "code",
   "execution_count": 12,
   "id": "c91ec252-5c9e-4471-96b0-c4bfa1df835f",
   "metadata": {},
   "outputs": [
    {
     "data": {
      "text/plain": [
       "array([[1., 0., 0.],\n",
       "       [0., 1., 0.],\n",
       "       [0., 0., 1.]])"
      ]
     },
     "execution_count": 12,
     "metadata": {},
     "output_type": "execute_result"
    }
   ],
   "source": [
    "np.identity(3)"
   ]
  },
  {
   "cell_type": "markdown",
   "id": "58682f8e-b349-419a-98a0-a21d6f8e7fcf",
   "metadata": {},
   "source": [
    "7. np.random.rand()- random values(0-1)"
   ]
  },
  {
   "cell_type": "code",
   "execution_count": 13,
   "id": "35ed938b-e7e3-4ac6-afd0-d979e6cf8ac7",
   "metadata": {},
   "outputs": [
    {
     "data": {
      "text/plain": [
       "array([[0.5256733 , 0.37571096, 0.77422748],\n",
       "       [0.774065  , 0.08872585, 0.36380927]])"
      ]
     },
     "execution_count": 13,
     "metadata": {},
     "output_type": "execute_result"
    }
   ],
   "source": [
    "np.random.rand(2,3)"
   ]
  },
  {
   "cell_type": "markdown",
   "id": "af9342f3-ade4-48b1-a669-e55eb07a523c",
   "metadata": {},
   "source": [
    "**Array operations**"
   ]
  },
  {
   "cell_type": "code",
   "execution_count": 14,
   "id": "cfbfc1c7-5d38-4655-a1b4-a6101f46e5c9",
   "metadata": {},
   "outputs": [
    {
     "name": "stdout",
     "output_type": "stream",
     "text": [
      "[5 7 9]\n",
      "[-3 -3 -3]\n",
      "[ 4 10 18]\n",
      "[0.25 0.4  0.5 ]\n",
      "[1 4 9]\n"
     ]
    }
   ],
   "source": [
    "a = np.array([1, 2, 3])\n",
    "b = np.array([4, 5, 6])\n",
    "\n",
    "print(a + b) \n",
    "print(a-b)\n",
    "print(a * b) \n",
    "print(a/b)\n",
    "print(a ** 2)"
   ]
  },
  {
   "cell_type": "markdown",
   "id": "feb64559-3c6f-49be-9e3a-f96f0999d844",
   "metadata": {},
   "source": [
    "**Array indexing and slicing**"
   ]
  },
  {
   "cell_type": "markdown",
   "id": "b05c1aa4-3ef6-40a5-9613-a5dd3469ba76",
   "metadata": {},
   "source": [
    "For 1D Arrays:"
   ]
  },
  {
   "cell_type": "code",
   "execution_count": 15,
   "id": "d7afa2c5-e1ca-4c41-85f0-5a453699b739",
   "metadata": {},
   "outputs": [
    {
     "name": "stdout",
     "output_type": "stream",
     "text": [
      "1\n",
      "4\n",
      "[2 3]\n"
     ]
    }
   ],
   "source": [
    "arr=np.array([1,2,3,4])\n",
    "\n",
    "print(arr[0])\n",
    "print(arr[-1])\n",
    "print(arr[1:3])"
   ]
  },
  {
   "cell_type": "markdown",
   "id": "01b27a80-7258-4aa7-a95e-0917d911c505",
   "metadata": {},
   "source": [
    "For 2D Array:"
   ]
  },
  {
   "cell_type": "code",
   "execution_count": 16,
   "id": "2c6d132e-941a-4aa9-a9af-cadb4e1e01d2",
   "metadata": {},
   "outputs": [
    {
     "name": "stdout",
     "output_type": "stream",
     "text": [
      "1\n",
      "2\n",
      "5\n",
      "1\n",
      "5\n",
      "[[1 2 3]\n",
      " [4 5 6]]\n",
      "[[1 2 3]\n",
      " [7 8 9]]\n",
      "[1 4 7]\n",
      "[[1 2]\n",
      " [4 5]\n",
      " [7 8]]\n"
     ]
    }
   ],
   "source": [
    "arr=np.array([[1,2,3],\n",
    "              [4,5,6],\n",
    "              [7,8,9]])\n",
    "# Chain Indexing\n",
    "print(arr[0][0])  #1\n",
    "print(arr[0][1])  #2\n",
    "print(arr[1][1])  #5\n",
    "\n",
    "# Multidimensional indexing ->faster than chain indexing\n",
    "print(arr[0,0])   #1\n",
    "print(arr[1,1])   #5\n",
    "\n",
    "# slicing\n",
    "print(arr[0:2])  # row 0 and row 1\n",
    "print(arr[0:3:2])  # row 0 and row 2(added step)\n",
    "\n",
    "print(arr[:,0])   # column 0\n",
    "print(arr[:,0:2])   # Col 0 and col 1"
   ]
  },
  {
   "cell_type": "markdown",
   "id": "c2bff399-ac5e-4d49-8467-943e1d989eea",
   "metadata": {},
   "source": [
    "**Mathematical Functions**"
   ]
  },
  {
   "cell_type": "code",
   "execution_count": 17,
   "id": "ba994957-421c-451f-9211-934404394dce",
   "metadata": {},
   "outputs": [
    {
     "name": "stdout",
     "output_type": "stream",
     "text": [
      "3.0\n",
      "3.0\n",
      "1.4142135623730951\n",
      "15\n",
      "[1.         1.41421356 1.73205081 2.         2.23606798]\n",
      "1\n",
      "5\n",
      "0\n",
      "4\n"
     ]
    }
   ],
   "source": [
    "a = np.array([1, 2, 3, 4, 5])\n",
    "print(np.mean(a))  # average\n",
    "print(np.median(a))\n",
    "print(np.std(a))   # standard deviation\n",
    "print(np.sum(a))\n",
    "print(np.sqrt(a))\n",
    "print(np.min(a))\n",
    "print(np.max(a))\n",
    "print(np.argmin(a))   #index of min number=1\n",
    "print(np.argmax(a))   #index of max number=5"
   ]
  },
  {
   "cell_type": "markdown",
   "id": "a68b11cd-a061-4fca-848f-842b2f509217",
   "metadata": {},
   "source": [
    "**Reshaping Arrays**"
   ]
  },
  {
   "cell_type": "code",
   "execution_count": 18,
   "id": "e25e0895-fd55-4d68-8a20-a33e4fc6877f",
   "metadata": {},
   "outputs": [
    {
     "name": "stdout",
     "output_type": "stream",
     "text": [
      "[[ 0  1  2  3]\n",
      " [ 4  5  6  7]\n",
      " [ 8  9 10 11]]\n"
     ]
    }
   ],
   "source": [
    "arr = np.arange(12)\n",
    "print(arr.reshape(3,4))"
   ]
  },
  {
   "cell_type": "code",
   "execution_count": 19,
   "id": "fbb18228-0618-4cb4-bea3-f56af7b16718",
   "metadata": {},
   "outputs": [
    {
     "name": "stdout",
     "output_type": "stream",
     "text": [
      "[[ 0  1  2  3  4  5  6  7  8  9 10 11 12 13 14 15 16 17 18 19 20 21 22 23\n",
      "  24 25 26 27 28 29 30 31 32]\n",
      " [33 34 35 36 37 38 39 40 41 42 43 44 45 46 47 48 49 50 51 52 53 54 55 56\n",
      "  57 58 59 60 61 62 63 64 65]\n",
      " [66 67 68 69 70 71 72 73 74 75 76 77 78 79 80 81 82 83 84 85 86 87 88 89\n",
      "  90 91 92 93 94 95 96 97 98]]\n"
     ]
    }
   ],
   "source": [
    "arr=np.arange(99)\n",
    "print(arr.reshape(3,33))"
   ]
  },
  {
   "cell_type": "markdown",
   "id": "a872b27d-084a-4d90-8a35-58b5c7092d37",
   "metadata": {},
   "source": [
    "**Filtering Arrays**"
   ]
  },
  {
   "cell_type": "code",
   "execution_count": 28,
   "id": "85c3dbfe-639d-449e-9596-fc62c2117cd2",
   "metadata": {},
   "outputs": [
    {
     "name": "stdout",
     "output_type": "stream",
     "text": [
      "[17 14 15 16]\n",
      "[19 20 33 39 23 22]\n",
      "[20 14 16 64 22]\n",
      "[[17  0  0  0 14 15]\n",
      " [16  0  0  0  0  0]]\n"
     ]
    }
   ],
   "source": [
    "ages=np.array([[17,19,20,33,14,15],\n",
    "              [16,39,23,64,63,22]])\n",
    "\n",
    "print(ages[ages<=18])    # teenagers\n",
    "print(ages[(ages>18) & (ages<=60)])    #Adults\n",
    "print(ages[ages%2==0])    #evens\n",
    "\n",
    "\n",
    "\n",
    "# to preserve the orignal shape ->use where()\n",
    "print(np.where(ages<=18,ages,0))"
   ]
  },
  {
   "cell_type": "markdown",
   "id": "8e1e7a0f-5ecd-45c7-8566-415c451674ef",
   "metadata": {},
   "source": [
    "**Matrix Operations**"
   ]
  },
  {
   "cell_type": "code",
   "execution_count": 20,
   "id": "121f80ca-d795-48ad-b853-65213a8c92cc",
   "metadata": {},
   "outputs": [
    {
     "name": "stdout",
     "output_type": "stream",
     "text": [
      "[[19 22]\n",
      " [43 50]]\n",
      "[[1 3]\n",
      " [2 4]]\n",
      "[[-2.   1. ]\n",
      " [ 1.5 -0.5]]\n",
      "-2.0000000000000004\n"
     ]
    }
   ],
   "source": [
    "A = np.array([[1,2],[3,4]])\n",
    "B = np.array([[5,6],[7,8]])\n",
    "\n",
    "print(np.dot(A, B))   # matrix multiplication\n",
    "print(np.transpose(A))\n",
    "print(np.linalg.inv(A))   # inverse\n",
    "print(np.linalg.det(A))   # determinant"
   ]
  },
  {
   "cell_type": "markdown",
   "id": "2b49be94-a376-49c2-b158-cd9328c34297",
   "metadata": {},
   "source": [
    "**Random Module**"
   ]
  },
  {
   "cell_type": "code",
   "execution_count": 21,
   "id": "3294ca41-1d42-4dcc-8e48-aa4c65139c58",
   "metadata": {},
   "outputs": [
    {
     "name": "stdout",
     "output_type": "stream",
     "text": [
      "[[0.38087637 0.80015081]\n",
      " [0.20170495 0.36346482]]\n",
      "[7 8 8 7 3]\n"
     ]
    }
   ],
   "source": [
    "print(np.random.rand(2,2))   # random floats\n",
    "print(np.random.randint(1,10,5))  # random integers"
   ]
  }
 ],
 "metadata": {
  "kernelspec": {
   "display_name": "Python 3 (ipykernel)",
   "language": "python",
   "name": "python3"
  },
  "language_info": {
   "codemirror_mode": {
    "name": "ipython",
    "version": 3
   },
   "file_extension": ".py",
   "mimetype": "text/x-python",
   "name": "python",
   "nbconvert_exporter": "python",
   "pygments_lexer": "ipython3",
   "version": "3.13.7"
  }
 },
 "nbformat": 4,
 "nbformat_minor": 5
}
